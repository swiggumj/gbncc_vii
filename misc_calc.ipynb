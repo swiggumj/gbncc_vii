{
 "cells": [
  {
   "cell_type": "code",
   "execution_count": null,
   "id": "3c3bc834",
   "metadata": {},
   "outputs": [],
   "source": [
    "import pint.models as model\n",
    "import pint.toa as toa\n",
    "import pint.logging\n",
    "import pint.fitter\n",
    "from pint.modelutils import model_ecliptic_to_equatorial\n",
    "import numpy as np\n",
    "import astropy.units as u\n",
    "import pint.derived_quantities as dq\n",
    "\n",
    "pint.logging.setup(level=\"ERROR\")"
   ]
  },
  {
   "cell_type": "markdown",
   "id": "621589ce",
   "metadata": {},
   "source": [
    "**J1221-0633 eclipsing calculations**\n",
    "\n",
    "For J1221-0633, we see additional delays around superior conjuntion at 820 MHz, probably due to additional electron content around the companion that the signal must travel through when the pulsar eclipses (no signal at 350 MHz). First I want to figure out the DM bump corresponding to this delay (roughly 200 microseconds)."
   ]
  },
  {
   "cell_type": "code",
   "execution_count": null,
   "id": "417ddc5a",
   "metadata": {},
   "outputs": [],
   "source": [
    "def SC_dDM(dt,freq):\n",
    "    \"\"\" Calculate additional column density at superior conjunction (given additional timing delay)\n",
    "    \n",
    "    Parameters\n",
    "    ==========\n",
    "    dt: quantity, additional dispersive timing delay due to plasma around companion\n",
    "    freq: quantity, observing frequency of measured delay\n",
    "    \n",
    "    Returns\n",
    "    =======\n",
    "    dDM_sup: quantity, additional column density at superior conjunction (cm^-2)\n",
    "    \"\"\"\n",
    "    Dconst = 4.148808e3*(1e6*u.Hz)**2*u.cm**3*u.s*u.pc**-1 # HBOPA, eqn. 4.6\n",
    "    dDM_sup = (dt*freq**2/Dconst).to(u.pc*u.cm**-3) # extra DM corresponding to delay\n",
    "    return dDM_sup.to(u.cm**-2)"
   ]
  },
  {
   "cell_type": "markdown",
   "id": "dd0e26f0",
   "metadata": {},
   "source": [
    "To compare to a similar calculation in Freire (2005; ASPCS, p. 407), I convert DM (column density) to 1/cm^2. The result is comparable to the column density of J2051-0827 (Stappers et al. 2001)."
   ]
  },
  {
   "cell_type": "code",
   "execution_count": null,
   "id": "468b1cc8",
   "metadata": {},
   "outputs": [],
   "source": [
    "dDM_1221 = SC_dDM(200.0*1e-6*u.s,820.0*(1e6*u.Hz))\n",
    "dDM_1221"
   ]
  },
  {
   "cell_type": "markdown",
   "id": "117991c7",
   "metadata": {},
   "source": [
    "How big might the companion be based on the duration of the eclipse? Assume inclination angle of 90 deg for now, and consider an eclipse that lasts some fraction of an orbit (based on gap between ingress-egress)."
   ]
  },
  {
   "cell_type": "code",
   "execution_count": null,
   "id": "1560d1f3",
   "metadata": {},
   "outputs": [],
   "source": [
    "def Rplasma(a, frac_eclipse):\n",
    "    \"\"\" Estimate companion (plasma?) radius based on extent of eclipse\n",
    "    \n",
    "    Parameters\n",
    "    ==========\n",
    "    a: quantity, separation between the pulsar and companion\n",
    "    frac_eclipse: float, fraction of the orbit where pulsar signal is obscured\n",
    "    \n",
    "    Returns\n",
    "    =======\n",
    "    Rplasma: quantity, companion's plasma(?) radius (Solar Radii)\n",
    "    \"\"\"\n",
    "    print(f\"Nominal pulsar-companion separation: {a.value:.4f} Rsun\")\n",
    "    ing2sup = frac_eclipse*180.0*u.deg # angle from ingress to superior conjunction\n",
    "    Rplasma = a*np.sin(ing2sup)\n",
    "    print(f\"Companion's estimated plasma radius: {Rplasma.value:.4f} Rsun\")\n",
    "    return Rplasma\n",
    "\n",
    "eclipsing_psrs = [\"J1317-0157\",\"J1221-0633\"]\n",
    "frac_eclipses = [0.15,0.16]\n",
    "rpDict = {}\n",
    "\n",
    "for ep,fe in zip(eclipsing_psrs,frac_eclipses):\n",
    "    par_path = f\"data/{ep}_swiggum+22.par\"\n",
    "    tim_path = f\"data/{ep}_swiggum+22.tim\"\n",
    "    mo = model.get_model(par_path)\n",
    "    to = toa.get_TOAs(tim_path,model=mo)\n",
    "    fo = pint.fitter.WLSFitter(to,mo)\n",
    "    x = fo.fit_toas()\n",
    "    a = mo['A1'].quantity.to(u.R_sun) # assume 90 deg inclination\n",
    "    print(f\"{ep} is obscured for {fe:.0%} of an orbit...\")\n",
    "    rp = Rplasma(a,fe)\n",
    "    rpDict[mo['PSR'].value]=rp\n",
    "    if ep != eclipsing_psrs[-1]: print()"
   ]
  },
  {
   "cell_type": "markdown",
   "id": "2076f6ed",
   "metadata": {},
   "source": [
    "For J1221, I can use the estimated companion's plasma radius to get some idea of the electron density near the companion (using the additional column density around superior conjunction). This is proabbly ~order of magnitude."
   ]
  },
  {
   "cell_type": "code",
   "execution_count": null,
   "id": "0d249243",
   "metadata": {},
   "outputs": [],
   "source": [
    "(dDM_1221/rpDict['J1221-0633']).to(u.cm**-3)"
   ]
  },
  {
   "cell_type": "markdown",
   "id": "d440f675",
   "metadata": {},
   "source": [
    "Next, I want to use the equation from Eggleton et al. (1983) to estimate the size of the companion's Roche Lobe, and thus, the path length the pulsar might be encountering around superior conjunction. Do this for a few possible inclination angles and assume pulsar mass is 1.4 solar masses."
   ]
  },
  {
   "cell_type": "code",
   "execution_count": null,
   "id": "b5a79b1f",
   "metadata": {},
   "outputs": [],
   "source": [
    "def RL_Eggleton(a,mc,mp=1.4*u.solMass):\n",
    "    \"\"\" Calculate Roche Lobe size in solar radii (see Eggleton 1983)\n",
    "    \n",
    "    Parameters\n",
    "    ==========\n",
    "    a: quantity, separation between the pulsar and companion\n",
    "    mc: quantity, companion mass (solar masses)\n",
    "    mp: pulsar mass (default: 1.4 Msun), optional\n",
    "    \n",
    "    Returns\n",
    "    =======\n",
    "    R_L: quantity, Roche Lobe size (solar radii)\n",
    "    \"\"\"\n",
    "    q = mc/mp\n",
    "    R_L = 0.49*a*q**(2.0/3)/(0.6*q**(2.0/3)+np.log(1.0+q**(1.0/3)))\n",
    "    return R_L.to(u.R_sun)\n",
    "\n",
    "eclipsing_psrs = [\"J1317-0157\",\"J1221-0633\"]\n",
    "incs = [90.0,80.0,70.0,60.0] # trial inclination angles, degrees\n",
    "\n",
    "for ep in eclipsing_psrs:\n",
    "    par_path = f\"data/{ep}_swiggum+22.par\"\n",
    "    tim_path = f\"data/{ep}_swiggum+22.tim\"\n",
    "    mo = model.get_model(par_path)\n",
    "    to = toa.get_TOAs(tim_path,model=mo)\n",
    "    fo = pint.fitter.WLSFitter(to,mo)\n",
    "    x = fo.fit_toas()\n",
    "    print(f\"Calculations for {ep}...\")\n",
    "    \n",
    "    for inc in incs:\n",
    "        a = (mo['A1'].quantity * np.sin(inc*u.deg)).to(u.R_sun)\n",
    "        mp = 1.4*u.M_sun\n",
    "        mc = dq.companion_mass(mo['PB'].quantity, mo['A1'].quantity, i=inc*u.deg, mp=mp)\n",
    "        R_L = RL_Eggleton(a,mc,mp=mp)\n",
    "        RlRp_ratio = R_L/rpDict[ep]\n",
    "        \n",
    "        mc_str = f\"{mc.value:.4f}\"\n",
    "        q_str = f\"{mc/mp:.4f}\"\n",
    "        a_str = f\"{a.value:.4f}\"\n",
    "        rl_str = f\"{R_L.value:.5f}\"\n",
    "        rlrp_str = f\"{RlRp_ratio:.2f}\"\n",
    "        \n",
    "        print(f\"  i = {inc} deg; mc = {mc_str} Msun; q = {q_str}; a = {a_str} Rsun; RL = {rl_str} Rsun; RL/Rp = {rlrp_str}\")\n",
    "        \n",
    "    if ep != eclipsing_psrs[-1]: print()"
   ]
  },
  {
   "cell_type": "markdown",
   "id": "819e194a",
   "metadata": {},
   "source": [
    "Therefore (as in Sec. 2.1 of Freire 2005), the Roche Lobe (R_L above) is much smaller than the size of the plasma cloud (from rpDict), and matter responsible for increased dispersive delays is not bound to the companion (i.e. companion is losing mass). This is true for both J1221 and J1317."
   ]
  },
  {
   "cell_type": "code",
   "execution_count": null,
   "id": "39061e95",
   "metadata": {},
   "outputs": [],
   "source": []
  }
 ],
 "metadata": {
  "kernelspec": {
   "display_name": "Python 3 (ipykernel)",
   "language": "python",
   "name": "python3"
  },
  "language_info": {
   "codemirror_mode": {
    "name": "ipython",
    "version": 3
   },
   "file_extension": ".py",
   "mimetype": "text/x-python",
   "name": "python",
   "nbconvert_exporter": "python",
   "pygments_lexer": "ipython3",
   "version": "3.9.12"
  }
 },
 "nbformat": 4,
 "nbformat_minor": 5
}
